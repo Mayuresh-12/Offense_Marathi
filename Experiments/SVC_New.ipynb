{
 "cells": [
  {
   "cell_type": "code",
   "execution_count": 14,
   "id": "0236108b",
   "metadata": {},
   "outputs": [],
   "source": [
    "# The path to the local git repo for Indic NLP library\n",
    "INDIC_NLP_LIB_HOME=r\"/Users/mayureshnene/Desktop/indic_nlp_library\"\n",
    "\n",
    "# The path to the local git repo for Indic NLP Resources\n",
    "INDIC_NLP_RESOURCES=r\"/Users/mayureshnene/Desktop/indic_nlp_resources\"\n",
    "\n",
    "import sys\n",
    "import pandas as pd\n",
    "import numpy as np\n",
    "import warnings\n",
    "import copy\n",
    "import matplotlib.pyplot as plt\n",
    "import seaborn as sns\n",
    "from tqdm import tqdm\n",
    "\n",
    "from sklearn.model_selection import train_test_split\n",
    "from sklearn.svm import SVC, LinearSVC\n",
    "from sklearn.metrics import accuracy_score, confusion_matrix, classification_report,plot_confusion_matrix\n",
    "from sklearn.model_selection import GridSearchCV\n",
    "from sklearn.svm import SVC, LinearSVC\n",
    "from sklearn.metrics import accuracy_score, confusion_matrix, classification_report\n",
    "from sklearn.feature_extraction.text import TfidfVectorizer, CountVectorizer\n",
    "\n",
    "from indicnlp import common\n",
    "from indicnlp import loader\n",
    "from indicnlp.tokenize import indic_tokenize\n",
    "from indicnlp.tokenize import indic_tokenize \n",
    "from indicnlp.morph import unsupervised_morph \n",
    "from indicnlp import common\n",
    "from indicnlp.normalize.indic_normalize import IndicNormalizerFactory\n",
    "\n",
    "sys.path.append(r'{}'.format(INDIC_NLP_LIB_HOME))\n",
    "\n",
    "common.set_resources_path(INDIC_NLP_RESOURCES)\n",
    "\n",
    "loader.load()"
   ]
  },
  {
   "cell_type": "code",
   "execution_count": 2,
   "id": "4d096d48",
   "metadata": {},
   "outputs": [
    {
     "ename": "SyntaxError",
     "evalue": "invalid syntax (<ipython-input-2-0ed17928281b>, line 2)",
     "output_type": "error",
     "traceback": [
      "\u001b[0;36m  File \u001b[0;32m\"<ipython-input-2-0ed17928281b>\"\u001b[0;36m, line \u001b[0;32m2\u001b[0m\n\u001b[0;31m    for\u001b[0m\n\u001b[0m        ^\u001b[0m\n\u001b[0;31mSyntaxError\u001b[0m\u001b[0;31m:\u001b[0m invalid syntax\n"
     ]
    }
   ],
   "source": [
    "def clean(tweet):\n",
    "    for "
   ]
  },
  {
   "cell_type": "code",
   "execution_count": 20,
   "id": "1f0bb5b4",
   "metadata": {},
   "outputs": [],
   "source": [
    "def tokenize(tweet):\n",
    "    return indic_tokenize.trivial_tokenize(tweet)\n",
    "\n",
    "def morph(tweet):\n",
    "    analyzed_tokens=analyzer.morph_analyze_document(str(tweet).split(' '))\n",
    "    return analyzed_tokens"
   ]
  },
  {
   "cell_type": "code",
   "execution_count": 21,
   "id": "76f28947",
   "metadata": {},
   "outputs": [
    {
     "name": "stdout",
     "output_type": "stream",
     "text": [
      "                                               tweet      subtask_a subtask_b  \\\n",
      "0  आजच्या जनता दरबारात जळगाव जिल्ह्यातील चाळीसगाव...  not offensive       NaN   \n",
      "1  कुणी कविता करत असतं तर कुणी कविता जगत असतं कुण...  not offensive       NaN   \n",
      "2  आम्हाला इतिहासातील औरंगजेबशी काही घेणे नाही आम...  not offensive       NaN   \n",
      "3  गँभीर प्रकरण महाराष्ट्राची अवस्था बिकट आहे भाष...  not offensive       NaN   \n",
      "4  कब्झा हा कन्नड चित्रपट लवकरच मराठी मध्ये डब्ब ...  not offensive       NaN   \n",
      "\n",
      "  subtask_c  \n",
      "0       NaN  \n",
      "1       NaN  \n",
      "2       NaN  \n",
      "3       NaN  \n",
      "4       NaN  \n",
      "['0', ' ', ' ', ' ', ' ', ' ', ' ', ' ', ' ', 'आ', 'ज', 'च', '्', 'य', 'ा', ' ', 'ज', 'न', 'त', 'ा', ' ', 'द', 'र', 'ब', 'ा', 'र', 'ा', 'त', ' ', 'ज', 'ळ', 'ग', 'ा', 'व', ' ', 'ज', 'ि', 'ल', '्', 'ह', '्', 'य', 'ा', 'त', 'ी', 'ल', ' ', 'च', 'ा', 'ळ', 'ी', 'स', 'ग', 'ा', 'व', '.', '.', '.', '\\n', '1', ' ', ' ', ' ', ' ', ' ', ' ', ' ', ' ', 'क', 'ु', 'ण', 'ी', ' ', 'क', 'व', 'ि', 'त', 'ा', ' ', 'क', 'र', 'त', ' ', 'अ', 'स', 'त', 'ं', ' ', 'त', 'र', ' ', 'क', 'ु', 'ण', 'ी', ' ', 'क', 'व', 'ि', 'त', 'ा', ' ', 'ज', 'ग', 'त', ' ', 'अ', 'स', 'त', 'ं', ' ', 'क', 'ु', 'ण', '.', '.', '.', '\\n', '2', ' ', ' ', ' ', ' ', ' ', ' ', ' ', ' ', 'आ', 'म', '्', 'ह', 'ा', 'ल', 'ा', ' ', 'इ', 'त', 'ि', 'ह', 'ा', 'स', 'ा', 'त', 'ी', 'ल', ' ', 'औ', 'र', 'ं', 'ग', 'ज', 'े', 'ब', 'श', 'ी', ' ', 'क', 'ा', 'ह', 'ी', ' ', 'घ', 'े', 'ण', 'े', ' ', 'न', 'ा', 'ह', 'ी', ' ', 'आ', 'म', '.', '.', '.', '\\n', '3', ' ', ' ', ' ', ' ', ' ', ' ', ' ', ' ', 'ग', 'ँ', 'भ', 'ी', 'र', ' ', 'प', '्', 'र', 'क', 'र', 'ण', ' ', 'म', 'ह', 'ा', 'र', 'ा', 'ष', '्', 'ट', '्', 'र', 'ा', 'च', 'ी', ' ', 'अ', 'व', 'स', '्', 'थ', 'ा', ' ', 'ब', 'ि', 'क', 'ट', ' ', 'आ', 'ह', 'े', ' ', 'भ', 'ा', 'ष', '.', '.', '.', '\\n', '4', ' ', ' ', ' ', ' ', ' ', ' ', ' ', ' ', 'क', 'ब', '्', 'झ', 'ा', ' ', 'ह', 'ा', ' ', 'क', 'न', '्', 'न', 'ड', ' ', 'च', 'ि', 'त', '्', 'र', 'प', 'ट', ' ', 'ल', 'व', 'क', 'र', 'च', ' ', 'म', 'र', 'ा', 'ठ', 'ी', ' ', 'म', 'ध', '्', 'य', 'े', ' ', 'ड', 'ब', '्', 'ब', ' ', '.', '.', '.', '\\n', ' ', ' ', ' ', ' ', ' ', ' ', ' ', ' ', ' ', ' ', ' ', ' ', ' ', ' ', ' ', ' ', ' ', ' ', ' ', ' ', ' ', ' ', ' ', ' ', ' ', ' ', ' ', ' ', ' ', ' ', ' ', '.', '.', '.', ' ', ' ', ' ', ' ', ' ', ' ', ' ', ' ', ' ', ' ', ' ', ' ', ' ', ' ', ' ', ' ', ' ', ' ', ' ', ' ', ' ', ' ', ' ', ' ', '\\n', '1', '2', '9', '9', '0', ' ', ' ', ' ', ' ', 'प', 'ह', 'ि', 'ल', '्', 'य', 'ा', ' ', 'ल', 'ा', 'ट', 'े', ' ', 'न', 'ं', 'त', 'र', ' ', 'स', 'र', '्', 'व', 'ा', 'त', ' ', 'क', 'म', 'ी', ' ', 'र', 'ु', 'ग', '्', 'ण', '\\\\', 'n', '#', 'क', 'ो', 'र', 'ो', 'न', 'ा', ' ', '#', 'र', '.', '.', '.', '\\n', '1', '2', '9', '9', '1', ' ', ' ', ' ', ' ', 'R', 'T', ' ', '@', 'D', 'e', 's', 'h', 'R', 'a', 't', '3', '0', '9', '9', '7', '7', '8', '9', ':', ' ', '@', 'R', 'a', 'v', 'i', 'n', 'd', 'r', 'a', 'A', 'm', 'b', 'e', 'k', 'a', 'r', ' ', 'ज', 'ग', 'ा', 'त', 'ल', 'े', ' ', 'स', '.', '.', '.', '\\n', '1', '2', '9', '9', '2', ' ', ' ', ' ', ' ', 'T', 'a', 't', 'a', ' ', 'T', 'i', 'g', 'o', 'r', ' ', 'E', 'V', ' ', '।', ' ', 'द', 'े', 'श', 'ा', 'त', 'ी', 'ल', ' ', 'स', 'र', '्', 'व', 'ा', 'त', ' ', 'स', '्', 'व', 'स', '्', 'त', ' ', 'इ', 'ल', 'े', 'क', '्', 'ट', '्', 'र', '.', '.', '.', '\\n', '1', '2', '9', '9', '3', ' ', ' ', ' ', ' ', 'R', 'T', ' ', '@', 'P', 'I', 'B', 'M', 'u', 'm', 'b', 'a', 'i', ':', ' ', 'प', 'ं', 'त', 'प', '्', 'र', 'ध', 'ा', 'न', ' ', 'आ', 'य', 'ु', 'ष', '्', 'म', 'ा', 'न', ' ', 'भ', 'ा', 'र', 'त', ' ', 'आ', 'र', 'ो', 'ग', '्', 'य', 'व', '.', '.', '.', '\\n', '1', '2', '9', '9', '4', ' ', ' ', ' ', ' ', '@', 'H', 'o', 'p', 'e', 'f', 'u', 'l', '_', 'A', 'd', 'd', 'i', 'c', 't', ' ', 'क', 'ा', 'ट', 'क', 'स', 'र', ' ', 'म', '्', 'ह', 'ण', 'ज', 'े', ' ', 'ग', 'ो', 'ध', 'ड', '्', 'य', 'ा', ' ', 'श', 'ि', 'व', 'ण', 'े', '.', '\\\\', 'n', '.', '.', '.', '\\n', 'N', 'a', 'm', 'e', ':', ' ', 't', 'w', 'e', 'e', 't', ',', ' ', 'L', 'e', 'n', 'g', 't', 'h', ':', ' ', '1', '2', '9', '9', '5', ',', ' ', 'd', 't', 'y', 'p', 'e', ':', ' ', 'o', 'b', 'j', 'e', 'c', 't']\n"
     ]
    }
   ],
   "source": [
    "dataframe = pd.read_csv(\"/Users/mayureshnene/Desktop/Mayuresh/Offense_Marathi/Data/Data.csv\")\n",
    "\n",
    "tweets = dataframe['tweet']\n",
    "tweets = str(tweets)\n",
    "print(dataframe.head())\n"
   ]
  },
  {
   "cell_type": "code",
   "execution_count": null,
   "id": "4d0c182b",
   "metadata": {},
   "outputs": [],
   "source": []
  }
 ],
 "metadata": {
  "kernelspec": {
   "display_name": "Python 3",
   "language": "python",
   "name": "python3"
  },
  "language_info": {
   "codemirror_mode": {
    "name": "ipython",
    "version": 3
   },
   "file_extension": ".py",
   "mimetype": "text/x-python",
   "name": "python",
   "nbconvert_exporter": "python",
   "pygments_lexer": "ipython3",
   "version": "3.8.8"
  }
 },
 "nbformat": 4,
 "nbformat_minor": 5
}
