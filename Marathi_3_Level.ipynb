{
 "cells": [
  {
   "cell_type": "code",
   "execution_count": 1,
   "metadata": {},
   "outputs": [],
   "source": [
    "# The path to the local git repo for Indic NLP library\n",
    "INDIC_NLP_LIB_HOME=r\"/Users/mayuresh/Desktop/indic_nlp_library\"\n",
    "\n",
    "# The path to the local git repo for Indic NLP Resources\n",
    "INDIC_NLP_RESOURCES=r\"/Users/mayuresh/Desktop/indic_nlp_resources\"\n",
    "\n",
    "import pandas as pd\n",
    "import numpy as np\n",
    "import warnings\n",
    "import warnings\n",
    "import matplotlib.pyplot as plt\n",
    "import seaborn as sns\n",
    "\n",
    "import sys\n",
    "sys.path.append(r'{}'.format(INDIC_NLP_LIB_HOME))\n",
    "from indicnlp import common\n",
    "common.set_resources_path(INDIC_NLP_RESOURCES)\n",
    "from indicnlp import loader\n",
    "loader.load()\n"
   ]
  },
  {
   "cell_type": "code",
   "execution_count": 2,
   "metadata": {},
   "outputs": [
    {
     "data": {
      "text/plain": [
       "0       GRP\n",
       "1       GRP\n",
       "2       GRP\n",
       "3       GRP\n",
       "4       GRP\n",
       "       ... \n",
       "2493    OTH\n",
       "2494    OTH\n",
       "2495    OTH\n",
       "2496    OTH\n",
       "2497    OTH\n",
       "Name: subtask_c, Length: 2498, dtype: object"
      ]
     },
     "execution_count": 2,
     "metadata": {},
     "output_type": "execute_result"
    }
   ],
   "source": [
    "training_dataset = pd.read_csv(\"/Users/mayuresh/Desktop/MOLD/Mold/MOLD_Training2.csv\")\n",
    "training_dataset.head()\n",
    "training_dataset.dropna()\n",
    "training_dataset['subtask_c'].fillna(\"NULL\")"
   ]
  },
  {
   "cell_type": "code",
   "execution_count": 3,
   "metadata": {},
   "outputs": [
    {
     "data": {
      "text/plain": [
       "0       राम कदम वागण्यात नाही तर बोलण्यात चुकला  बीजेप...\n",
       "1       हीच का तुमची शिवसेने चि शिकवण... आपली आई म्हणज...\n",
       "2       हे वाचा गाढवांनो. आणि हे ही सांगा की तुमच्या म...\n",
       "3              भक्त आंधळे असतात. मूर्खा ना काही कळत नाही.\n",
       "4       १९६६ साली छत्रपती शिवाजी महाराज या जागतिक दर्ज...\n",
       "                              ...                        \n",
       "2493     पण बरेच जण जन्मजात मंद   मूर्ख आणि अंधभक्त अस...\n",
       "2494     कर्नाटक मध्ये जेव्हा छत्रपती शिवाजी महाराजांच...\n",
       "2495     मंद...सत्तेचे लालची तुम्ही म्हणून आज गुंडांना...\n",
       "2496                           आयटी सेल वाले दळभद्री 🤣🤣🤣 \n",
       "2497     मविआ चे चाटे काय गोट्या चोळत बसले काय नेत्यां...\n",
       "Name: tweet, Length: 2498, dtype: object"
      ]
     },
     "execution_count": 3,
     "metadata": {},
     "output_type": "execute_result"
    }
   ],
   "source": [
    "tweets = training_dataset[\"tweet\"]\n",
    "tweets"
   ]
  },
  {
   "cell_type": "code",
   "execution_count": 4,
   "metadata": {},
   "outputs": [],
   "source": [
    "level_A = training_dataset[[\"subtask_a\"]]\n",
    "level_B = training_dataset.query(\"subtask_a == 'Offensive'\")[[\"subtask_b\"]]\n",
    "level_C = training_dataset.query(\"subtask_b == 'TIN'\")[[\"subtask_c\"]]"
   ]
  },
  {
   "cell_type": "code",
   "execution_count": null,
   "metadata": {},
   "outputs": [],
   "source": []
  }
 ],
 "metadata": {
  "kernelspec": {
   "display_name": "Python 3",
   "language": "python",
   "name": "python3"
  },
  "language_info": {
   "codemirror_mode": {
    "name": "ipython",
    "version": 3
   },
   "file_extension": ".py",
   "mimetype": "text/x-python",
   "name": "python",
   "nbconvert_exporter": "python",
   "pygments_lexer": "ipython3",
   "version": "3.7.6"
  }
 },
 "nbformat": 4,
 "nbformat_minor": 4
}
